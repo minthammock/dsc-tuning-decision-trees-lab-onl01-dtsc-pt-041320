{
 "cells": [
  {
   "cell_type": "markdown",
   "metadata": {},
   "source": [
    "# Hyperparameter Tuning and Pruning in Decision Trees - Lab\n",
    "\n",
    "## Introduction\n",
    "\n",
    "In this lab, you will use the titanic dataset to see the impact of tree pruning and hyperparameter tuning on the predictive performance of a decision tree classifier. Pruning reduces the size of decision trees by removing nodes of the tree that do not provide much predictive power to classify instances. Decision trees are the most susceptible out of all the machine learning algorithms to overfitting and effective pruning can reduce this likelihood. \n",
    "\n",
    "## Objectives\n",
    "\n",
    "In this lab you will: \n",
    "\n",
    "- Determine the optimal hyperparameters for a decision tree model and evaluate the model performance"
   ]
  },
  {
   "cell_type": "markdown",
   "metadata": {},
   "source": [
    "## Import necessary libraries\n",
    "\n",
    "Let's first import the libraries you'll need for this lab. "
   ]
  },
  {
   "cell_type": "code",
   "execution_count": 1,
   "metadata": {},
   "outputs": [],
   "source": [
    "import numpy as np\n",
    "import pandas as pd\n",
    "import matplotlib as mpl\n",
    "import matplotlib.pyplot as plt\n",
    "from sklearn.model_selection import train_test_split\n",
    "from sklearn.tree import DecisionTreeClassifier\n",
    "from sklearn.metrics import roc_curve, auc\n",
    "plt.style.use('seaborn')"
   ]
  },
  {
   "cell_type": "markdown",
   "metadata": {},
   "source": [
    "## Import the data\n",
    "\n",
    "The titanic dataset, available in `'titanic.csv'`, is all cleaned up and preprocessed for you so that you can focus on pruning and optimization. Import the dataset and print the first five rows of the data: "
   ]
  },
  {
   "cell_type": "code",
   "execution_count": 6,
   "metadata": {},
   "outputs": [
    {
     "data": {
      "text/plain": [
       "0    549\n",
       "1    342\n",
       "Name: Survived, dtype: int64"
      ]
     },
     "execution_count": 6,
     "metadata": {},
     "output_type": "execute_result"
    }
   ],
   "source": [
    "# Import the data\n",
    "df = pd.read_csv('titanic.csv')\n",
    "df.head()\n",
    "df.Survived.value_counts()\n"
   ]
  },
  {
   "cell_type": "markdown",
   "metadata": {},
   "source": [
    "## Create training and test sets\n",
    "\n",
    "- Assign the `'Survived'` column to `y` \n",
    "- Drop the `'Survived'` and `'PassengerId'` columns from `df`, and assign the resulting DataFrame to `X` \n",
    "- Split `X` and `y` into training and test sets. Assign 30% to the test set and set the `random_state` to `SEED` "
   ]
  },
  {
   "cell_type": "code",
   "execution_count": 4,
   "metadata": {},
   "outputs": [],
   "source": [
    "# Create X and y \n",
    "y = df.Survived\n",
    "X = df.drop(columns = ['Survived', 'PassengerId'])\n",
    "\n",
    "# Split into training and test sets\n",
    "SEED = 1\n",
    "X_train, X_test, y_train, y_test = train_test_split(X,y)"
   ]
  },
  {
   "cell_type": "markdown",
   "metadata": {},
   "source": [
    "## Train a vanilla classifier\n",
    "\n",
    "__Note:__ The term \"vanilla\" is used for a machine learning algorithm with its default settings (no tweaking/tuning).\n",
    "\n",
    "- Instantiate a decision tree \n",
    "  - Use the `'entropy'` criterion and set the `random_state` to `SEED` \n",
    "- Fit this classifier to the training data "
   ]
  },
  {
   "cell_type": "code",
   "execution_count": 10,
   "metadata": {},
   "outputs": [
    {
     "data": {
      "text/plain": [
       "DecisionTreeClassifier(ccp_alpha=0.0, class_weight='balanced',\n",
       "                       criterion='entropy', max_depth=None, max_features=None,\n",
       "                       max_leaf_nodes=None, min_impurity_decrease=0.0,\n",
       "                       min_impurity_split=None, min_samples_leaf=1,\n",
       "                       min_samples_split=2, min_weight_fraction_leaf=0.0,\n",
       "                       presort='deprecated', random_state=1, splitter='best')"
      ]
     },
     "execution_count": 10,
     "metadata": {},
     "output_type": "execute_result"
    }
   ],
   "source": [
    "# Train the classifier using training data\n",
    "tree = DecisionTreeClassifier(random_state=1, criterion='entropy', class_weight='balanced')\n",
    "tree.fit(X_train,y_train)"
   ]
  },
  {
   "cell_type": "markdown",
   "metadata": {},
   "source": [
    "## Make predictions \n",
    "- Create a set of predictions using the test set \n",
    "- Using `y_test` and `y_pred`, calculate the AUC (Area under the curve) to check the predictive performance"
   ]
  },
  {
   "cell_type": "code",
   "execution_count": 11,
   "metadata": {},
   "outputs": [
    {
     "data": {
      "text/plain": [
       "0.791030534351145"
      ]
     },
     "execution_count": 11,
     "metadata": {},
     "output_type": "execute_result"
    }
   ],
   "source": [
    "# Make predictions using test set \n",
    "y_hat = tree.predict(X_test)\n",
    "\n",
    "# Check the AUC of predictions\n",
    "false_positive_rate, true_positive_rate, thresholds = roc_curve(y_test, y_hat)\n",
    "roc_auc = auc(false_positive_rate,true_positive_rate)\n",
    "roc_auc"
   ]
  },
  {
   "cell_type": "markdown",
   "metadata": {},
   "source": [
    "## Maximum Tree Depth\n",
    "\n",
    "Let's first check for the best depth parameter for our decision tree: \n",
    "\n",
    "- Create an array for `max_depth` values ranging from 1 - 32  \n",
    "- In a loop, train the classifier for each depth value (32 runs) \n",
    "- Calculate the training and test AUC for each run \n",
    "- Plot a graph to show under/overfitting and the optimal value \n",
    "- Interpret the results "
   ]
  },
  {
   "cell_type": "code",
   "execution_count": 27,
   "metadata": {},
   "outputs": [
    {
     "data": {
      "text/plain": [
       "[0.7807417855957517,\n",
       " 0.7456023896448722,\n",
       " 0.8352140723531364,\n",
       " 0.8352140723531364,\n",
       " 0.8086209757716563,\n",
       " 0.8009873879853967,\n",
       " 0.8249253235977432,\n",
       " 0.7846830401593097,\n",
       " 0.78086624626618,\n",
       " 0.7917358114835712,\n",
       " 0.8112761367407899,\n",
       " 0.8112761367407899,\n",
       " 0.8221457019581812,\n",
       " 0.8161301028874876,\n",
       " 0.7845585794888815,\n",
       " 0.8106953202787919,\n",
       " 0.7938101559907069,\n",
       " 0.7954281447062728,\n",
       " 0.7714902090939263,\n",
       " 0.7954281447062728,\n",
       " 0.7807417855957517,\n",
       " 0.7807417855957517,\n",
       " 0.8062977099236641,\n",
       " 0.7676734152007966,\n",
       " 0.7861765682044475,\n",
       " 0.7954281447062728,\n",
       " 0.80791569863923,\n",
       " 0.8062977099236641,\n",
       " 0.8008629273149684,\n",
       " 0.7861765682044475,\n",
       " 0.7938101559907069,\n",
       " 0.7954281447062728]"
      ]
     },
     "metadata": {},
     "output_type": "display_data"
    },
    {
     "name": "stderr",
     "output_type": "stream",
     "text": [
      "No handles with labels found to put in legend.\n"
     ]
    },
    {
     "data": {
      "text/plain": [
       "<function matplotlib.pyplot.show(*args, **kw)>"
      ]
     },
     "execution_count": 27,
     "metadata": {},
     "output_type": "execute_result"
    },
    {
     "data": {
      "image/png": "[encoded data removed]",
      "text/plain": [
       "<Figure size 576x396 with 1 Axes>"
      ]
     },
     "metadata": {},
     "output_type": "display_data"
    }
   ],
   "source": [
    "# Identify the optimal tree depth for given data\n",
    "depths = range(1,33)\n",
    "info = []\n",
    "for i in depths:\n",
    "    tree_0 = DecisionTreeClassifier(criterion='entropy', max_depth=i)\n",
    "    tree_0.fit(X_train, y_train)\n",
    "    y_hat_0_test = tree_0.predict(X_test)\n",
    "    y_hat_0_train = tree_0.predict(X_train)\n",
    "    false_positive_rate_test, true_positive_rate_test, thresholds_test = roc_curve(y_test, y_hat_0_test)\n",
    "    false_positive_rate_train, true_positive_rate_train, thresholds_train = roc_curve(y_train, y_hat_0_train)\n",
    "    roc_auc_test = auc(false_positive_rate_test,true_positive_rate_test)\n",
    "    roc_auc = auc(false_positive_rate_train, true_positive_rate_train)\n",
    "    info.append((roc_auc,roc_auc_test))\n",
    "\n",
    "    \n",
    "x_ = [thing[0] for thing in info]\n",
    "y_ = [thing[1] for thing in info]\n",
    "plt.plot(depths,x_, depths,y_)\n",
    "display(y_)\n",
    "plt.legend()\n",
    "plt.show"
   ]
  },
  {
   "cell_type": "code",
   "execution_count": null,
   "metadata": {},
   "outputs": [],
   "source": [
    "# You observations here "
   ]
  },
  {
   "cell_type": "markdown",
   "metadata": {},
   "source": [
    "## Minimum Sample Split\n",
    "\n",
    "Now check for the best `min_samples_splits` parameter for our decision tree \n",
    "\n",
    "- Create an array for `min_sample_splits` values ranging from 0.1 - 1 with an increment of 0.1 \n",
    "- In a loop, train the classifier for each `min_samples_splits` value (10 runs) \n",
    "- Calculate the training and test AUC for each run \n",
    "- Plot a graph to show under/overfitting and the optimal value \n",
    "- Interpret the results"
   ]
  },
  {
   "cell_type": "code",
   "execution_count": 28,
   "metadata": {},
   "outputs": [
    {
     "data": {
      "text/plain": [
       "[0.8031861931629606,\n",
       " 0.7782110852970461,\n",
       " 0.7782110852970461,\n",
       " 0.8133504812479256,\n",
       " 0.7807417855957517,\n",
       " 0.7807417855957517,\n",
       " 0.7807417855957517,\n",
       " 0.7807417855957517,\n",
       " 0.7807417855957517]"
      ]
     },
     "metadata": {},
     "output_type": "display_data"
    },
    {
     "name": "stderr",
     "output_type": "stream",
     "text": [
      "No handles with labels found to put in legend.\n"
     ]
    },
    {
     "data": {
      "text/plain": [
       "<function matplotlib.pyplot.show(*args, **kw)>"
      ]
     },
     "execution_count": 28,
     "metadata": {},
     "output_type": "execute_result"
    },
    {
     "data": {
      "image/png": "[encoded data removed]",
      "text/plain": [
       "<Figure size 576x396 with 1 Axes>"
      ]
     },
     "metadata": {},
     "output_type": "display_data"
    }
   ],
   "source": [
    "# Identify the optimal min-samples-split for given data\n",
    "depths = np.arange(.1,1, .1)\n",
    "info = []\n",
    "for i in depths:\n",
    "    tree_0 = DecisionTreeClassifier(criterion='entropy', min_samples_split=i)\n",
    "    tree_0.fit(X_train, y_train)\n",
    "    y_hat_0_test = tree_0.predict(X_test)\n",
    "    y_hat_0_train = tree_0.predict(X_train)\n",
    "    false_positive_rate_test, true_positive_rate_test, thresholds_test = roc_curve(y_test, y_hat_0_test)\n",
    "    false_positive_rate_train, true_positive_rate_train, thresholds_train = roc_curve(y_train, y_hat_0_train)\n",
    "    roc_auc_test = auc(false_positive_rate_test,true_positive_rate_test)\n",
    "    roc_auc = auc(false_positive_rate_train, true_positive_rate_train)\n",
    "    info.append((roc_auc,roc_auc_test))\n",
    "\n",
    "    \n",
    "x_ = [thing[0] for thing in info]\n",
    "y_ = [thing[1] for thing in info]\n",
    "plt.plot(depths,x_, depths,y_)\n",
    "display(y_)\n",
    "plt.legend()\n",
    "plt.show"
   ]
  },
  {
   "cell_type": "code",
   "execution_count": null,
   "metadata": {},
   "outputs": [],
   "source": [
    "# Your observations here"
   ]
  },
  {
   "cell_type": "markdown",
   "metadata": {},
   "source": [
    "## Minimum Sample Leafs\n",
    "\n",
    "Now check for the best `min_samples_leafs` parameter value for our decision tree \n",
    "\n",
    "- Create an array for `min_samples_leafs` values ranging from 0.1 - 0.5 with an increment of 0.1 \n",
    "- In a loop, train the classifier for each `min_samples_leafs` value (5 runs) \n",
    "- Calculate the training and test AUC for each run \n",
    "- Plot a graph to show under/overfitting and the optimal value \n",
    "- Interpret the results"
   ]
  },
  {
   "cell_type": "code",
   "execution_count": 29,
   "metadata": {},
   "outputs": [
    {
     "data": {
      "text/plain": [
       "[0.7456023896448722,\n",
       " 0.7807417855957517,\n",
       " 0.7807417855957517,\n",
       " 0.6455360106206438]"
      ]
     },
     "metadata": {},
     "output_type": "display_data"
    },
    {
     "name": "stderr",
     "output_type": "stream",
     "text": [
      "No handles with labels found to put in legend.\n"
     ]
    },
    {
     "data": {
      "text/plain": [
       "<function matplotlib.pyplot.show(*args, **kw)>"
      ]
     },
     "execution_count": 29,
     "metadata": {},
     "output_type": "execute_result"
    },
    {
     "data": {
      "image/png": "[encoded data removed]",
      "text/plain": [
       "<Figure size 576x396 with 1 Axes>"
      ]
     },
     "metadata": {},
     "output_type": "display_data"
    }
   ],
   "source": [
    "# Calculate the optimal value for minimum sample leafs\n",
    "depths = np.arange(.1,.5, .1)\n",
    "info = []\n",
    "for i in depths:\n",
    "    tree_0 = DecisionTreeClassifier(criterion='entropy', min_samples_leaf=i)\n",
    "    tree_0.fit(X_train, y_train)\n",
    "    y_hat_0_test = tree_0.predict(X_test)\n",
    "    y_hat_0_train = tree_0.predict(X_train)\n",
    "    false_positive_rate_test, true_positive_rate_test, thresholds_test = roc_curve(y_test, y_hat_0_test)\n",
    "    false_positive_rate_train, true_positive_rate_train, thresholds_train = roc_curve(y_train, y_hat_0_train)\n",
    "    roc_auc_test = auc(false_positive_rate_test,true_positive_rate_test)\n",
    "    roc_auc = auc(false_positive_rate_train, true_positive_rate_train)\n",
    "    info.append((roc_auc,roc_auc_test))\n",
    "\n",
    "    \n",
    "x_ = [thing[0] for thing in info]\n",
    "y_ = [thing[1] for thing in info]\n",
    "plt.plot(depths,x_, depths,y_)\n",
    "display(y_)\n",
    "plt.legend()\n",
    "plt.show"
   ]
  },
  {
   "cell_type": "code",
   "execution_count": null,
   "metadata": {},
   "outputs": [],
   "source": [
    "# Your observations here \n"
   ]
  },
  {
   "cell_type": "markdown",
   "metadata": {},
   "source": [
    "## Maximum Features\n",
    "\n",
    "Now check for the best `max_features` parameter value for our decision tree \n",
    "\n",
    "- Create an array for `max_features` values ranging from 1 - 12 (1 feature vs all)\n",
    "- In a loop, train the classifier for each `max_features` value (12 runs) \n",
    "- Calculate the training and test AUC for each run \n",
    "- Plot a graph to show under/overfitting and the optimal value \n",
    "- Interpret the results"
   ]
  },
  {
   "cell_type": "code",
   "execution_count": 30,
   "metadata": {},
   "outputs": [
    {
     "data": {
      "text/plain": [
       "[0.8062977099236641,\n",
       " 0.7932293395287089,\n",
       " 0.7960089611682708,\n",
       " 0.8008629273149684,\n",
       " 0.7916113508131429,\n",
       " 0.7682542316627945,\n",
       " 0.7861765682044475,\n",
       " 0.7839777630268835,\n",
       " 0.7921921672751411,\n",
       " 0.7557666777298374,\n",
       " 0.7905741785595752,\n",
       " 0.776924991702622]"
      ]
     },
     "metadata": {},
     "output_type": "display_data"
    },
    {
     "name": "stderr",
     "output_type": "stream",
     "text": [
      "No handles with labels found to put in legend.\n"
     ]
    },
    {
     "data": {
      "text/plain": [
       "<function matplotlib.pyplot.show(*args, **kw)>"
      ]
     },
     "execution_count": 30,
     "metadata": {},
     "output_type": "execute_result"
    },
    {
     "data": {
      "image/png": "[encoded data removed]",
      "text/plain": [
       "<Figure size 576x396 with 1 Axes>"
      ]
     },
     "metadata": {},
     "output_type": "display_data"
    }
   ],
   "source": [
    "# Find the best value for optimal maximum feature size\n",
    "depths = range(1,13)\n",
    "info = []\n",
    "for i in depths:\n",
    "    tree_0 = DecisionTreeClassifier(criterion='entropy', max_features=i)\n",
    "    tree_0.fit(X_train, y_train)\n",
    "    y_hat_0_test = tree_0.predict(X_test)\n",
    "    y_hat_0_train = tree_0.predict(X_train)\n",
    "    false_positive_rate_test, true_positive_rate_test, thresholds_test = roc_curve(y_test, y_hat_0_test)\n",
    "    false_positive_rate_train, true_positive_rate_train, thresholds_train = roc_curve(y_train, y_hat_0_train)\n",
    "    roc_auc_test = auc(false_positive_rate_test,true_positive_rate_test)\n",
    "    roc_auc = auc(false_positive_rate_train, true_positive_rate_train)\n",
    "    info.append((roc_auc,roc_auc_test))\n",
    "\n",
    "    \n",
    "x_ = [thing[0] for thing in info]\n",
    "y_ = [thing[1] for thing in info]\n",
    "plt.plot(depths,x_, depths,y_)\n",
    "display(y_)\n",
    "plt.legend()\n",
    "plt.show"
   ]
  },
  {
   "cell_type": "code",
   "execution_count": null,
   "metadata": {},
   "outputs": [],
   "source": [
    "# Your observations here"
   ]
  },
  {
   "cell_type": "markdown",
   "metadata": {},
   "source": [
    "## Re-train the classifier with chosen values\n",
    "\n",
    "Now we will use the best values from each training phase above and feed it back to our classifier. Then we can see if there is any improvement in predictive performance. \n",
    "\n",
    "- Train the classifier with the optimal values identified \n",
    "- Compare the AUC of the new model with the earlier vanilla decision tree AUC \n",
    "- Interpret the results of the comparison"
   ]
  },
  {
   "cell_type": "code",
   "execution_count": 37,
   "metadata": {},
   "outputs": [
    {
     "data": {
      "text/plain": [
       "0.6696746411483254"
      ]
     },
     "metadata": {},
     "output_type": "display_data"
    },
    {
     "data": {
      "text/plain": [
       "0.6455360106206438"
      ]
     },
     "metadata": {},
     "output_type": "display_data"
    }
   ],
   "source": [
    "# Train a classifier with optimal values identified above\n",
    "tree_0 = DecisionTreeClassifier(criterion='entropy', max_depth=4, min_samples_leaf=.3, min_samples_split=.4,max_features=3)\n",
    "tree_0.fit(X_train, y_train)\n",
    "y_hat_0_test = tree_0.predict(X_test)\n",
    "y_hat_0_train = tree_0.predict(X_train)\n",
    "false_positive_rate_test, true_positive_rate_test, thresholds_test = roc_curve(y_test, y_hat_0_test)\n",
    "false_positive_rate_train, true_positive_rate_train, thresholds_train = roc_curve(y_train, y_hat_0_train)\n",
    "roc_auc_test = auc(false_positive_rate_test,true_positive_rate_test)\n",
    "roc_auc = auc(false_positive_rate_train, true_positive_rate_train)\n",
    "\n",
    "display(roc_auc,roc_auc_test)"
   ]
  },
  {
   "cell_type": "code",
   "execution_count": null,
   "metadata": {},
   "outputs": [],
   "source": [
    "# You observations here"
   ]
  },
  {
   "cell_type": "markdown",
   "metadata": {},
   "source": [
    "In the next section, we shall talk about hyperparameter tuning using a technique called \"grid-search\" to make this process even more granular and decisive. "
   ]
  },
  {
   "cell_type": "markdown",
   "metadata": {},
   "source": [
    "## Summary \n",
    "\n",
    "In this lesson, we looked at tuning a decision tree classifier in order to avoid overfitting and increasing the generalization capabilities of the classifier. For the titanic dataset, we see that identifying optimal parameter values can result in some improvements towards predictions. This idea will be exploited further in upcoming lessons and labs. "
   ]
  }
 ],
 "metadata": {
  "kernelspec": {
   "display_name": "Python 3",
   "language": "python",
   "name": "python3"
  },
  "language_info": {
   "codemirror_mode": {
    "name": "ipython",
    "version": 3
   },
   "file_extension": ".py",
   "mimetype": "text/x-python",
   "name": "python",
   "nbconvert_exporter": "python",
   "pygments_lexer": "ipython3",
   "version": "3.7.6"
  },
  "toc": {
   "base_numbering": 1,
   "nav_menu": {},
   "number_sections": true,
   "sideBar": true,
   "skip_h1_title": false,
   "title_cell": "Table of Contents",
   "title_sidebar": "Contents",
   "toc_cell": false,
   "toc_position": {},
   "toc_section_display": true,
   "toc_window_display": false
  },
  "varInspector": {
   "cols": {
    "lenName": 16,
    "lenType": 16,
    "lenVar": 40
   },
   "kernels_config": {
    "python": {
     "delete_cmd_postfix": "",
     "delete_cmd_prefix": "del ",
     "library": "var_list.py",
     "varRefreshCmd": "print(var_dic_list())"
    },
    "r": {
     "delete_cmd_postfix": ") ",
     "delete_cmd_prefix": "rm(",
     "library": "var_list.r",
     "varRefreshCmd": "cat(var_dic_list()) "
    }
   },
   "types_to_exclude": [
    "module",
    "function",
    "builtin_function_or_method",
    "instance",
    "_Feature"
   ],
   "window_display": false
  }
 },
 "nbformat": 4,
 "nbformat_minor": 2
}
